{
 "cells": [
  {
   "cell_type": "code",
   "execution_count": 1,
   "id": "19aa7f29",
   "metadata": {},
   "outputs": [
    {
     "name": "stdout",
     "output_type": "stream",
     "text": [
      "inside module.py\n",
      "hello\n"
     ]
    }
   ],
   "source": [
    "import module"
   ]
  },
  {
   "cell_type": "code",
   "execution_count": 7,
   "id": "1d6c8089",
   "metadata": {},
   "outputs": [
    {
     "name": "stdout",
     "output_type": "stream",
     "text": [
      "The autoreload extension is already loaded. To reload it, use:\n",
      "  %reload_ext autoreload\n"
     ]
    }
   ],
   "source": [
    "%load_ext autoreload\n",
    "%autoreload"
   ]
  },
  {
   "cell_type": "code",
   "execution_count": 2,
   "id": "c02ca7f8",
   "metadata": {},
   "outputs": [],
   "source": [
    "from functions import *"
   ]
  },
  {
   "cell_type": "code",
   "execution_count": 3,
   "id": "c02ca82f",
   "metadata": {},
   "outputs": [
    {
     "name": "stdout",
     "output_type": "stream",
     "text": [
      "inside function 1\n"
     ]
    }
   ],
   "source": [
    "function_1()"
   ]
  },
  {
   "cell_type": "code",
   "execution_count": 4,
   "id": "1191d1e8",
   "metadata": {},
   "outputs": [
    {
     "name": "stdout",
     "output_type": "stream",
     "text": [
      "inside funtion 2: hello there\n"
     ]
    }
   ],
   "source": [
    "function_2(\"hello there\")"
   ]
  },
  {
   "cell_type": "code",
   "execution_count": 5,
   "id": "65ba4bd3",
   "metadata": {},
   "outputs": [],
   "source": [
    "import functions"
   ]
  },
  {
   "cell_type": "code",
   "execution_count": 6,
   "id": "2fca122e",
   "metadata": {},
   "outputs": [
    {
     "name": "stdout",
     "output_type": "stream",
     "text": [
      "inside function 1\n"
     ]
    }
   ],
   "source": [
    "functions.function_1()"
   ]
  },
  {
   "cell_type": "code",
   "execution_count": 1,
   "id": "81a94d17",
   "metadata": {},
   "outputs": [],
   "source": [
    "import special"
   ]
  },
  {
   "cell_type": "code",
   "execution_count": 2,
   "id": "1e87d8d1",
   "metadata": {},
   "outputs": [
    {
     "data": {
      "text/plain": [
       "['__builtins__',\n",
       " '__cached__',\n",
       " '__doc__',\n",
       " '__file__',\n",
       " '__loader__',\n",
       " '__name__',\n",
       " '__package__',\n",
       " '__path__',\n",
       " '__spec__',\n",
       " 'cos',\n",
       " 'special_function_1',\n",
       " 'special_functions',\n",
       " 'special_variable']"
      ]
     },
     "execution_count": 2,
     "metadata": {},
     "output_type": "execute_result"
    }
   ],
   "source": [
    "dir(special)"
   ]
  },
  {
   "cell_type": "code",
   "execution_count": 3,
   "id": "965a88a9",
   "metadata": {},
   "outputs": [],
   "source": [
    "import sys"
   ]
  },
  {
   "cell_type": "code",
   "execution_count": null,
   "id": "ee3b196f",
   "metadata": {},
   "outputs": [],
   "source": [
    "print(sys.path)"
   ]
  },
  {
   "cell_type": "code",
   "execution_count": 6,
   "id": "9ec19404",
   "metadata": {},
   "outputs": [
    {
     "name": "stdout",
     "output_type": "stream",
     "text": [
      "42\n"
     ]
    }
   ],
   "source": [
    "print(special.special_variable)"
   ]
  },
  {
   "cell_type": "code",
   "execution_count": 5,
   "id": "8e981820",
   "metadata": {},
   "outputs": [
    {
     "data": {
      "text/plain": [
       "3.141592653589793"
      ]
     },
     "execution_count": 5,
     "metadata": {},
     "output_type": "execute_result"
    }
   ],
   "source": [
    "import math\n",
    "math.pi"
   ]
  },
  {
   "cell_type": "code",
   "execution_count": 7,
   "id": "55c855a5",
   "metadata": {},
   "outputs": [],
   "source": [
    "from math import *"
   ]
  },
  {
   "cell_type": "code",
   "execution_count": 8,
   "id": "3844858d",
   "metadata": {},
   "outputs": [
    {
     "data": {
      "text/plain": [
       "3.141592653589793"
      ]
     },
     "execution_count": 8,
     "metadata": {},
     "output_type": "execute_result"
    }
   ],
   "source": [
    "pi"
   ]
  },
  {
   "cell_type": "code",
   "execution_count": 9,
   "id": "83a3b78d",
   "metadata": {},
   "outputs": [
    {
     "data": {
      "text/plain": [
       "-1.0"
      ]
     },
     "execution_count": 9,
     "metadata": {},
     "output_type": "execute_result"
    }
   ],
   "source": [
    "cos(pi)"
   ]
  },
  {
   "cell_type": "code",
   "execution_count": 10,
   "id": "66a1f217",
   "metadata": {},
   "outputs": [
    {
     "data": {
      "text/plain": [
       "-0.9999987317275395"
      ]
     },
     "execution_count": 10,
     "metadata": {},
     "output_type": "execute_result"
    }
   ],
   "source": [
    "cos(3.14)"
   ]
  },
  {
   "cell_type": "code",
   "execution_count": 11,
   "id": "ef7499e3",
   "metadata": {},
   "outputs": [],
   "source": [
    "from special import *"
   ]
  },
  {
   "cell_type": "code",
   "execution_count": 12,
   "id": "9beb8e12",
   "metadata": {},
   "outputs": [
    {
     "name": "stdout",
     "output_type": "stream",
     "text": [
      "this is not the cos your looking for: 3.14\n"
     ]
    }
   ],
   "source": [
    "cos(3.14)"
   ]
  },
  {
   "cell_type": "code",
   "execution_count": null,
   "id": "6b3d7992",
   "metadata": {},
   "outputs": [],
   "source": []
  }
 ],
 "metadata": {
  "kernelspec": {
   "display_name": "Python 3 (ipykernel)",
   "language": "python",
   "name": "python3"
  },
  "language_info": {
   "codemirror_mode": {
    "name": "ipython",
    "version": 3
   },
   "file_extension": ".py",
   "mimetype": "text/x-python",
   "name": "python",
   "nbconvert_exporter": "python",
   "pygments_lexer": "ipython3",
   "version": "3.9.5"
  }
 },
 "nbformat": 4,
 "nbformat_minor": 5
}
